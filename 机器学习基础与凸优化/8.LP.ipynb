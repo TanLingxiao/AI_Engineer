{
 "cells": [
  {
   "cell_type": "markdown",
   "metadata": {},
   "source": [
    "  凸优化的标准问题有四类：\n",
    "\n",
    "1. Linear Programming(LP)\n",
    "2. Quadratic Programming(QP)\n",
    "3. Semi-Definite Programming(SDP)\n",
    "4. Cone Programming(CP)\n",
    "\n",
    "LP是QP的一种特殊情况，QP又是SDP的一种特殊情况，SDP又是CP的一种特殊情况"
   ]
  }
 ],
 "metadata": {
  "kernelspec": {
   "display_name": "Python 3",
   "language": "python",
   "name": "python3"
  },
  "language_info": {
   "codemirror_mode": {
    "name": "ipython",
    "version": 3
   },
   "file_extension": ".py",
   "mimetype": "text/x-python",
   "name": "python",
   "nbconvert_exporter": "python",
   "pygments_lexer": "ipython3",
   "version": "3.7.3"
  }
 },
 "nbformat": 4,
 "nbformat_minor": 2
}
